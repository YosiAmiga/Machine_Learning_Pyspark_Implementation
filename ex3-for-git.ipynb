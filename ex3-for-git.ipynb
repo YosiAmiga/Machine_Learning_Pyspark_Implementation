{
 "cells": [
  {
   "cell_type": "markdown",
   "id": "ad5546a4",
   "metadata": {},
   "source": [
    "# Big Data EX3 - Spark MLib \n",
    "# Yosi Amiga "
   ]
  },
  {
   "cell_type": "code",
   "execution_count": 1,
   "id": "3e030805",
   "metadata": {},
   "outputs": [
    {
     "name": "stdout",
     "output_type": "stream",
     "text": [
      "Requirement already satisfied: pyspark in c:\\users\\user\\anaconda3\\lib\\site-packages (3.3.1)\n",
      "Requirement already satisfied: py4j==0.10.9.5 in c:\\users\\user\\anaconda3\\lib\\site-packages (from pyspark) (0.10.9.5)\n"
     ]
    }
   ],
   "source": [
    "!pip install pyspark"
   ]
  },
  {
   "cell_type": "code",
   "execution_count": 1,
   "id": "2234f534",
   "metadata": {},
   "outputs": [],
   "source": [
    "from pyspark.ml import Pipeline\n",
    "from pyspark.ml.classification import RandomForestClassifier, GBTClassifier, BinaryLogisticRegressionSummary\n",
    "from pyspark.ml.evaluation import MulticlassClassificationEvaluator, BinaryClassificationEvaluator\n",
    "from pyspark.ml.feature import VectorAssembler, StringIndexer,IndexToString\n",
    "from pyspark.ml.tuning import CrossValidator, ParamGridBuilder\n",
    "from pyspark.sql import SparkSession\n",
    "from pyspark.sql.functions import *\n",
    "from pyspark.sql.types import DoubleType\n",
    "from pyspark.sql.functions import udf\n",
    "from pyspark.sql.functions import cast\n",
    "import matplotlib.pyplot as plt"
   ]
  },
  {
   "cell_type": "markdown",
   "id": "e7870b96",
   "metadata": {},
   "source": [
    "## DATASET CLEANING SECTION "
   ]
  },
  {
   "cell_type": "code",
   "execution_count": 2,
   "id": "9e2e2d68",
   "metadata": {},
   "outputs": [],
   "source": [
    "# Start a Spark session\n",
    "spark = SparkSession.builder.appName(\"Random Forest Example\").getOrCreate()\n",
    "\n",
    "# Load the dataset\n",
    "train_df = spark.read.text(\"adult.data\")\n",
    "test_df = spark.read.text(\"adult.test\")\n"
   ]
  },
  {
   "cell_type": "code",
   "execution_count": 3,
   "id": "f2da8de3",
   "metadata": {},
   "outputs": [],
   "source": [
    "def dataframeCleaning(df):\n",
    "    # Split the values in the first column based on the \",\" delimiter\n",
    "    df = df.select(split(df.value, \", \").alias(\"features\"))\n",
    "    # Get the number of columns\n",
    "    num_of_cols = len(df.select(\"features\").first()[0])\n",
    "    # Create the new columns' names\n",
    "    col_names = [\"col\" + str(i) for i in range(num_of_cols)]\n",
    "    # Create the new columns\n",
    "    for i, col_name in enumerate(col_names):\n",
    "        df = df.withColumn(col_name, df[\"features\"][i])\n",
    "    # drop the old column\n",
    "    df = df.drop(\"features\")\n",
    "    # Rename the columns to the desired names\n",
    "    df = df.withColumnRenamed(\"col0\", \"age\") \\\n",
    "        .withColumnRenamed(\"col1\", \"workclass\") \\\n",
    "        .withColumnRenamed(\"col2\", \"fnlwgt\") \\\n",
    "        .withColumnRenamed(\"col3\", \"education\") \\\n",
    "        .withColumnRenamed(\"col4\", \"education-num\") \\\n",
    "        .withColumnRenamed(\"col5\", \"marital-status\") \\\n",
    "        .withColumnRenamed(\"col6\", \"occupation\") \\\n",
    "        .withColumnRenamed(\"col7\", \"relationship\") \\\n",
    "        .withColumnRenamed(\"col8\", \"race\") \\\n",
    "        .withColumnRenamed(\"col9\", \"sex\") \\\n",
    "        .withColumnRenamed(\"col10\", \"capital-gain\") \\\n",
    "        .withColumnRenamed(\"col11\", \"capital-loss\") \\\n",
    "        .withColumnRenamed(\"col12\", \"hours-per-week\") \\\n",
    "        .withColumnRenamed(\"col13\", \"native-country\") \\\n",
    "        .withColumnRenamed(\"col14\", \"Yearly-income(Label)\")\n",
    "\n",
    "    # Set all the values of '?' to be None, it is a garbage value\n",
    "    df = df.replace(\"?\", None)\n",
    "\n",
    "    # Each non numeric column value should be represented as a double value in the final dataset\n",
    "    features = [\"workclass\", \"education\", \"marital-status\", \"occupation\", \"relationship\", \"race\", \"sex\",\n",
    "                \"native-country\"]\n",
    "    for feature in features:\n",
    "        # Create a StringIndexer object\n",
    "        indexer = StringIndexer(inputCol=feature, outputCol=feature + \"_index\", handleInvalid='keep')\n",
    "        # Fit the indexer on your dataset and transform the data\n",
    "        indexer_model = indexer.fit(df)\n",
    "        df = indexer_model.transform(df)\n",
    "        df = df.drop(feature)\n",
    "        df = df.withColumnRenamed(feature + \"_index\", feature)\n",
    "\n",
    "    # convert the value column from string to double\n",
    "    df = df.withColumn(\"age\", col(\"age\").cast('double'))\n",
    "    df = df.withColumn(\"fnlwgt\", col(\"fnlwgt\").cast('double'))\n",
    "    df = df.withColumn(\"education-num\", col(\"education-num\").cast('double'))\n",
    "    df = df.withColumn(\"capital-gain\", col(\"capital-gain\").cast('double'))\n",
    "    df = df.withColumn(\"capital-loss\", col(\"capital-loss\").cast('double'))\n",
    "    df = df.withColumn(\"hours-per-week\", col(\"hours-per-week\").cast('double'))\n",
    "\n",
    "    indexer = StringIndexer(inputCol=\"Yearly-income(Label)\", outputCol=\"label\")\n",
    "    indexer_model = indexer.fit(df)\n",
    "    df = indexer_model.transform(df)\n",
    "    df = df.drop(\"Yearly-income(Label)\")\n",
    "    return df"
   ]
  },
  {
   "cell_type": "code",
   "execution_count": 4,
   "id": "3f319a02",
   "metadata": {},
   "outputs": [],
   "source": [
    "# Clean and set up data for model creation\n",
    "train_df = dataframeCleaning(train_df)\n",
    "test_df = dataframeCleaning(test_df)\n"
   ]
  },
  {
   "cell_type": "markdown",
   "id": "61c23534",
   "metadata": {},
   "source": [
    "### Train Dataframe"
   ]
  },
  {
   "cell_type": "code",
   "execution_count": 5,
   "id": "70a89961",
   "metadata": {},
   "outputs": [
    {
     "name": "stdout",
     "output_type": "stream",
     "text": [
      "+----+--------+-------------+------------+------------+--------------+---------+---------+--------------+----------+------------+----+---+--------------+-----+\n",
      "| age|  fnlwgt|education-num|capital-gain|capital-loss|hours-per-week|workclass|education|marital-status|occupation|relationship|race|sex|native-country|label|\n",
      "+----+--------+-------------+------------+------------+--------------+---------+---------+--------------+----------+------------+----+---+--------------+-----+\n",
      "|39.0| 77516.0|         13.0|      2174.0|         0.0|          40.0|      3.0|      2.0|           1.0|       3.0|         1.0| 0.0|0.0|           0.0|  0.0|\n",
      "|50.0| 83311.0|         13.0|         0.0|         0.0|          13.0|      1.0|      2.0|           0.0|       2.0|         0.0| 0.0|0.0|           0.0|  0.0|\n",
      "|38.0|215646.0|          9.0|         0.0|         0.0|          40.0|      0.0|      0.0|           2.0|       8.0|         1.0| 0.0|0.0|           0.0|  0.0|\n",
      "|53.0|234721.0|          7.0|         0.0|         0.0|          40.0|      0.0|      5.0|           0.0|       8.0|         0.0| 1.0|0.0|           0.0|  0.0|\n",
      "|28.0|338409.0|         13.0|         0.0|         0.0|          40.0|      0.0|      2.0|           0.0|       0.0|         4.0| 1.0|1.0|           8.0|  0.0|\n",
      "|37.0|284582.0|         14.0|         0.0|         0.0|          40.0|      0.0|      3.0|           0.0|       2.0|         4.0| 0.0|1.0|           0.0|  0.0|\n",
      "|49.0|160187.0|          5.0|         0.0|         0.0|          16.0|      0.0|     10.0|           5.0|       5.0|         1.0| 1.0|1.0|          10.0|  0.0|\n",
      "|52.0|209642.0|          9.0|         0.0|         0.0|          45.0|      1.0|      0.0|           0.0|       2.0|         0.0| 0.0|0.0|           0.0|  1.0|\n",
      "|31.0| 45781.0|         14.0|     14084.0|         0.0|          50.0|      0.0|      3.0|           1.0|       0.0|         1.0| 0.0|1.0|           0.0|  1.0|\n",
      "|42.0|159449.0|         13.0|      5178.0|         0.0|          40.0|      0.0|      2.0|           0.0|       2.0|         0.0| 0.0|0.0|           0.0|  1.0|\n",
      "|37.0|280464.0|         10.0|         0.0|         0.0|          80.0|      0.0|      1.0|           0.0|       2.0|         0.0| 1.0|0.0|           0.0|  1.0|\n",
      "|30.0|141297.0|         13.0|         0.0|         0.0|          40.0|      3.0|      2.0|           0.0|       0.0|         0.0| 2.0|0.0|           7.0|  1.0|\n",
      "|23.0|122272.0|         13.0|         0.0|         0.0|          30.0|      0.0|      2.0|           1.0|       3.0|         2.0| 0.0|1.0|           0.0|  0.0|\n",
      "|32.0|205019.0|         12.0|         0.0|         0.0|          50.0|      0.0|      6.0|           1.0|       4.0|         1.0| 1.0|0.0|           0.0|  0.0|\n",
      "|40.0|121772.0|         11.0|         0.0|         0.0|          40.0|      0.0|      4.0|           0.0|       1.0|         0.0| 2.0|0.0|          41.0|  1.0|\n",
      "|34.0|245487.0|          4.0|         0.0|         0.0|          45.0|      0.0|      8.0|           0.0|       7.0|         0.0| 3.0|0.0|           1.0|  0.0|\n",
      "|25.0|176756.0|          9.0|         0.0|         0.0|          35.0|      1.0|      0.0|           1.0|       9.0|         2.0| 0.0|0.0|           0.0|  0.0|\n",
      "|32.0|186824.0|          9.0|         0.0|         0.0|          40.0|      0.0|      0.0|           1.0|       6.0|         3.0| 0.0|0.0|           0.0|  0.0|\n",
      "|38.0| 28887.0|          7.0|         0.0|         0.0|          50.0|      0.0|      5.0|           0.0|       4.0|         0.0| 0.0|0.0|           0.0|  0.0|\n",
      "|43.0|292175.0|         14.0|         0.0|         0.0|          45.0|      1.0|      3.0|           2.0|       2.0|         3.0| 0.0|1.0|           0.0|  1.0|\n",
      "|40.0|193524.0|         16.0|         0.0|         0.0|          60.0|      0.0|     12.0|           0.0|       0.0|         0.0| 0.0|0.0|           0.0|  1.0|\n",
      "|54.0|302146.0|          9.0|         0.0|         0.0|          20.0|      0.0|      0.0|           3.0|       5.0|         3.0| 1.0|1.0|           0.0|  0.0|\n",
      "|35.0| 76845.0|          5.0|         0.0|         0.0|          40.0|      5.0|     10.0|           0.0|       9.0|         0.0| 1.0|0.0|           0.0|  0.0|\n",
      "|43.0|117037.0|          7.0|         0.0|      2042.0|          40.0|      0.0|      5.0|           0.0|       7.0|         0.0| 0.0|0.0|           0.0|  0.0|\n",
      "|59.0|109015.0|          9.0|         0.0|         0.0|          40.0|      0.0|      0.0|           2.0|      10.0|         3.0| 0.0|1.0|           0.0|  0.0|\n",
      "|56.0|216851.0|         13.0|         0.0|         0.0|          40.0|      2.0|      2.0|           0.0|      10.0|         0.0| 0.0|0.0|           0.0|  1.0|\n",
      "|19.0|168294.0|          9.0|         0.0|         0.0|          40.0|      0.0|      0.0|           1.0|       1.0|         2.0| 0.0|0.0|           0.0|  0.0|\n",
      "|54.0|180211.0|         10.0|         0.0|         0.0|          60.0|      8.0|      1.0|           0.0|      14.0|         0.0| 2.0|0.0|          11.0|  1.0|\n",
      "|39.0|367260.0|          9.0|         0.0|         0.0|          80.0|      0.0|      0.0|           2.0|       2.0|         1.0| 0.0|0.0|           0.0|  0.0|\n",
      "|49.0|193366.0|          9.0|         0.0|         0.0|          40.0|      0.0|      0.0|           0.0|       1.0|         0.0| 0.0|0.0|           0.0|  0.0|\n",
      "+----+--------+-------------+------------+------------+--------------+---------+---------+--------------+----------+------------+----+---+--------------+-----+\n",
      "only showing top 30 rows\n",
      "\n"
     ]
    }
   ],
   "source": [
    "train_df.show(30)"
   ]
  },
  {
   "cell_type": "markdown",
   "id": "08306d93",
   "metadata": {},
   "source": [
    "### Test Dataframe"
   ]
  },
  {
   "cell_type": "code",
   "execution_count": 6,
   "id": "e5e73222",
   "metadata": {},
   "outputs": [
    {
     "name": "stdout",
     "output_type": "stream",
     "text": [
      "+----+--------+-------------+------------+------------+--------------+---------+---------+--------------+----------+------------+----+---+--------------+-----+\n",
      "| age|  fnlwgt|education-num|capital-gain|capital-loss|hours-per-week|workclass|education|marital-status|occupation|relationship|race|sex|native-country|label|\n",
      "+----+--------+-------------+------------+------------+--------------+---------+---------+--------------+----------+------------+----+---+--------------+-----+\n",
      "|25.0|226802.0|          7.0|         0.0|         0.0|          40.0|      0.0|      5.0|           1.0|       6.0|         2.0| 1.0|0.0|           0.0|  0.0|\n",
      "|38.0| 89814.0|          9.0|         0.0|         0.0|          50.0|      0.0|      0.0|           0.0|      10.0|         0.0| 0.0|0.0|           0.0|  0.0|\n",
      "|28.0|336951.0|         12.0|         0.0|         0.0|          40.0|      2.0|      6.0|           0.0|      11.0|         0.0| 0.0|0.0|           0.0|  1.0|\n",
      "|44.0|160323.0|         10.0|      7688.0|         0.0|          40.0|      0.0|      1.0|           0.0|       6.0|         0.0| 1.0|0.0|           0.0|  1.0|\n",
      "|18.0|103497.0|         10.0|         0.0|         0.0|          30.0|      8.0|      1.0|           1.0|      14.0|         2.0| 0.0|1.0|           0.0|  0.0|\n",
      "|34.0|198693.0|          6.0|         0.0|         0.0|          30.0|      0.0|      7.0|           1.0|       5.0|         1.0| 0.0|0.0|           0.0|  0.0|\n",
      "|29.0|227026.0|          9.0|         0.0|         0.0|          40.0|      8.0|      0.0|           1.0|      14.0|         3.0| 1.0|0.0|           0.0|  0.0|\n",
      "|63.0|104626.0|         15.0|      3103.0|         0.0|          32.0|      1.0|      9.0|           0.0|       0.0|         0.0| 0.0|0.0|           0.0|  1.0|\n",
      "|24.0|369667.0|         10.0|         0.0|         0.0|          40.0|      0.0|      1.0|           1.0|       5.0|         3.0| 0.0|1.0|           0.0|  0.0|\n",
      "|55.0|104996.0|          4.0|         0.0|         0.0|          10.0|      0.0|      8.0|           0.0|       2.0|         0.0| 0.0|0.0|           0.0|  0.0|\n",
      "|65.0|184454.0|          9.0|      6418.0|         0.0|          40.0|      0.0|      0.0|           0.0|       6.0|         0.0| 0.0|0.0|           0.0|  1.0|\n",
      "|36.0|212465.0|         13.0|         0.0|         0.0|          40.0|      5.0|      2.0|           0.0|       4.0|         0.0| 0.0|0.0|           0.0|  0.0|\n",
      "|26.0| 82091.0|          9.0|         0.0|         0.0|          39.0|      0.0|      0.0|           1.0|       4.0|         1.0| 0.0|1.0|           0.0|  0.0|\n",
      "|58.0|299831.0|          9.0|         0.0|         0.0|          35.0|      8.0|      0.0|           0.0|      14.0|         0.0| 0.0|0.0|           0.0|  0.0|\n",
      "|48.0|279724.0|          9.0|      3103.0|         0.0|          48.0|      0.0|      0.0|           0.0|       6.0|         0.0| 0.0|0.0|           0.0|  1.0|\n",
      "|43.0|346189.0|         14.0|         0.0|         0.0|          50.0|      0.0|      3.0|           0.0|       1.0|         0.0| 0.0|0.0|           0.0|  1.0|\n",
      "|20.0|444554.0|         10.0|         0.0|         0.0|          25.0|      3.0|      1.0|           1.0|       5.0|         2.0| 0.0|0.0|           0.0|  0.0|\n",
      "|43.0|128354.0|          9.0|         0.0|         0.0|          30.0|      0.0|      0.0|           0.0|       4.0|         4.0| 0.0|1.0|           0.0|  0.0|\n",
      "|37.0| 60548.0|          9.0|         0.0|         0.0|          20.0|      0.0|      0.0|           3.0|       6.0|         3.0| 0.0|1.0|           0.0|  0.0|\n",
      "|40.0| 85019.0|         16.0|         0.0|         0.0|          45.0|      0.0|     12.0|           0.0|       0.0|         0.0| 2.0|0.0|          40.0|  1.0|\n",
      "|34.0|107914.0|         13.0|         0.0|         0.0|          47.0|      0.0|      2.0|           0.0|       9.0|         0.0| 0.0|0.0|           0.0|  1.0|\n",
      "|34.0|238588.0|         10.0|         0.0|         0.0|          35.0|      0.0|      1.0|           1.0|       5.0|         2.0| 1.0|1.0|           0.0|  0.0|\n",
      "|72.0|132015.0|          4.0|         0.0|         0.0|           6.0|      8.0|      8.0|           2.0|      14.0|         1.0| 0.0|1.0|           0.0|  0.0|\n",
      "|25.0|220931.0|         13.0|         0.0|         0.0|          43.0|      0.0|      2.0|           1.0|       0.0|         1.0| 0.0|0.0|          26.0|  0.0|\n",
      "|25.0|205947.0|         13.0|         0.0|         0.0|          40.0|      0.0|      2.0|           0.0|       0.0|         0.0| 0.0|0.0|           0.0|  0.0|\n",
      "|45.0|432824.0|          9.0|      7298.0|         0.0|          90.0|      1.0|      0.0|           0.0|       2.0|         0.0| 0.0|0.0|           0.0|  1.0|\n",
      "|22.0|236427.0|          9.0|         0.0|         0.0|          20.0|      0.0|      0.0|           1.0|       4.0|         2.0| 0.0|0.0|           0.0|  0.0|\n",
      "|23.0|134446.0|          9.0|         0.0|         0.0|          54.0|      0.0|      0.0|           4.0|       6.0|         3.0| 1.0|0.0|           0.0|  0.0|\n",
      "|54.0| 99516.0|          9.0|         0.0|         0.0|          35.0|      0.0|      0.0|           0.0|       2.0|         0.0| 0.0|0.0|           0.0|  0.0|\n",
      "|32.0|109282.0|         10.0|         0.0|         0.0|          60.0|      1.0|      1.0|           1.0|       0.0|         1.0| 0.0|0.0|           0.0|  0.0|\n",
      "+----+--------+-------------+------------+------------+--------------+---------+---------+--------------+----------+------------+----+---+--------------+-----+\n",
      "only showing top 30 rows\n",
      "\n"
     ]
    }
   ],
   "source": [
    "test_df.show(30)"
   ]
  },
  {
   "cell_type": "markdown",
   "id": "1de442f8",
   "metadata": {},
   "source": [
    "### Features:"
   ]
  },
  {
   "cell_type": "code",
   "execution_count": 7,
   "id": "ad11c91f",
   "metadata": {},
   "outputs": [
    {
     "data": {
      "text/plain": [
       "['age',\n",
       " 'fnlwgt',\n",
       " 'education-num',\n",
       " 'capital-gain',\n",
       " 'capital-loss',\n",
       " 'hours-per-week',\n",
       " 'workclass',\n",
       " 'education',\n",
       " 'marital-status',\n",
       " 'occupation',\n",
       " 'relationship',\n",
       " 'race',\n",
       " 'sex',\n",
       " 'native-country',\n",
       " 'label']"
      ]
     },
     "execution_count": 7,
     "metadata": {},
     "output_type": "execute_result"
    }
   ],
   "source": [
    "feature_names = train_df.columns\n",
    "feature_names"
   ]
  },
  {
   "cell_type": "markdown",
   "id": "472595a3",
   "metadata": {},
   "source": [
    "## Model Creation Section"
   ]
  },
  {
   "cell_type": "markdown",
   "id": "26ff30d2",
   "metadata": {},
   "source": [
    "### A. Use RandomForestClassifier to build a classification model on the training data.\n",
    "### Tune the hyperparameters numTrees, subsamplingRate, and featureSubsetStrategy."
   ]
  },
  {
   "cell_type": "markdown",
   "id": "4956c32f",
   "metadata": {},
   "source": [
    "#### Create the model and hyperparameters"
   ]
  },
  {
   "cell_type": "code",
   "execution_count": 8,
   "id": "0fe3462c",
   "metadata": {},
   "outputs": [],
   "source": [
    "trainingData = train_df\n",
    "testData = test_df\n",
    "# Create a vector assembler to combine all feature columns into a single vector column\n",
    "assembler = VectorAssembler(inputCols=trainingData.columns[:-1], outputCol=\"features\")"
   ]
  },
  {
   "cell_type": "markdown",
   "id": "00731918",
   "metadata": {},
   "source": [
    "## Create the Random Forest Classifier\n"
   ]
  },
  {
   "cell_type": "code",
   "execution_count": 9,
   "id": "ceb011b0",
   "metadata": {},
   "outputs": [],
   "source": [
    "rf = RandomForestClassifier(labelCol=\"label\", featuresCol=\"features\",maxBins=100)"
   ]
  },
  {
   "cell_type": "code",
   "execution_count": 10,
   "id": "686e773c",
   "metadata": {},
   "outputs": [],
   "source": [
    "# Create a pipeline to combine the vector assembler and the classifier\n",
    "pipeline = Pipeline(stages=[assembler, rf])"
   ]
  },
  {
   "cell_type": "code",
   "execution_count": 11,
   "id": "72eedf0d",
   "metadata": {},
   "outputs": [],
   "source": [
    "# Create a param grid builder to specify the range of values for the hyperparameters\n",
    "paramGrid = ParamGridBuilder() \\\n",
    "    .addGrid(rf.numTrees, [10, 50, 100]) \\\n",
    "    .addGrid(rf.subsamplingRate, [0.5, 0.7, 1.0]) \\\n",
    "    .addGrid(rf.featureSubsetStrategy, [\"auto\", \"sqrt\", \"log2\"]) \\\n",
    "    .build()"
   ]
  },
  {
   "cell_type": "code",
   "execution_count": 12,
   "id": "9eccd975",
   "metadata": {},
   "outputs": [],
   "source": [
    "# Fit the model to the training data\n",
    "# model = cv.fit(trainingData)"
   ]
  },
  {
   "cell_type": "markdown",
   "id": "43eeed25",
   "metadata": {},
   "source": [
    "## Binary model:"
   ]
  },
  {
   "cell_type": "code",
   "execution_count": 13,
   "id": "4c53dde3",
   "metadata": {},
   "outputs": [],
   "source": [
    "# Binary classicivation \n",
    "binary_cv = CrossValidator(estimator=pipeline, estimatorParamMaps=paramGrid, evaluator=BinaryClassificationEvaluator(), numFolds=3)"
   ]
  },
  {
   "cell_type": "code",
   "execution_count": 14,
   "id": "7bb12059",
   "metadata": {},
   "outputs": [],
   "source": [
    "# Fit the model to the training data\n",
    "model_binary = binary_cv.fit(trainingData)"
   ]
  },
  {
   "cell_type": "markdown",
   "id": "91cc05df",
   "metadata": {},
   "source": [
    "## Evaluate the model performance"
   ]
  },
  {
   "cell_type": "code",
   "execution_count": 15,
   "id": "801e4c0f",
   "metadata": {},
   "outputs": [
    {
     "name": "stdout",
     "output_type": "stream",
     "text": [
      "Accuracy: 0.8957586731293937\n"
     ]
    }
   ],
   "source": [
    "# Use the best model to predict on the test data\n",
    "predictions = model_binary.transform(testData)\n",
    "\n",
    "# Evaluate the model using the BinaryClassificationEvaluator\n",
    "binary_evaluator = BinaryClassificationEvaluator(labelCol=\"label\", rawPredictionCol=\"rawPrediction\", metricName=\"areaUnderROC\")\n",
    "accuracy = binary_evaluator.evaluate(predictions)\n",
    "print(\"Accuracy:\", accuracy)"
   ]
  },
  {
   "cell_type": "markdown",
   "id": "7fb93828",
   "metadata": {},
   "source": [
    "## Find the best value of the hyperparameters: \n",
    "## \"numTrees\", \"subsamplingRate\", \"featureSubsetStrategy\""
   ]
  },
  {
   "cell_type": "code",
   "execution_count": 16,
   "id": "ff0c41cb",
   "metadata": {},
   "outputs": [
    {
     "name": "stdout",
     "output_type": "stream",
     "text": [
      "Best hyperparameters:\n",
      "\tfeatureSubsetStrategy: auto\n",
      "\tnumTrees: 100\n",
      "\tsubsamplingRate: 0.5\n"
     ]
    }
   ],
   "source": [
    "bestModel = model_binary.bestModel\n",
    "best_param = bestModel.stages[1].extractParamMap()\n",
    "\n",
    "# Iterate over the dictionary and extract the values of the best hyperparameters\n",
    "best_params = {}\n",
    "for k, v in best_param.items():\n",
    "    if k.name in [\"numTrees\", \"subsamplingRate\", \"featureSubsetStrategy\"]:\n",
    "        best_params[k.name] = v\n",
    "\n",
    "# Print the extracted best hyperparameters\n",
    "print(\"Best hyperparameters:\")\n",
    "for k, v in best_params.items():\n",
    "    print(\"\\t{}: {}\".format(k, v))\n"
   ]
  },
  {
   "cell_type": "markdown",
   "id": "df54f9f7",
   "metadata": {},
   "source": [
    "## B. By checking feature Importances, which features are the most important? \n",
    "## Try to give an analysis on your results"
   ]
  },
  {
   "cell_type": "code",
   "execution_count": 17,
   "id": "71d053ed",
   "metadata": {},
   "outputs": [
    {
     "name": "stdout",
     "output_type": "stream",
     "text": [
      "Feature Importance, (14,[0,1,2,3,4,5,6,7,8,9,10,11,12,13],[0.033417661245507935,0.0009244077867689788,0.160615481611544,0.19864217120800276,0.026858763261694858,0.02277982383502459,0.0013834343251258891,0.014159911703902914,0.26170213432906664,0.0763511824232126,0.193295266135761,0.00012341388063875946,0.007432863915966488,0.002313484337782475])\n"
     ]
    }
   ],
   "source": [
    "# Access the feature importances\n",
    "importances = bestModel.stages[-1].featureImportances\n",
    "print(\"Feature Importance, \" + str(importances))\n",
    "# Extract the feature names\n",
    "feature_names = trainingData.columns"
   ]
  },
  {
   "cell_type": "code",
   "execution_count": 18,
   "id": "0f12add6",
   "metadata": {},
   "outputs": [
    {
     "name": "stdout",
     "output_type": "stream",
     "text": [
      "Feature: marital-status Importance: 0.26170213432906664\n",
      "Feature: capital-gain Importance: 0.19864217120800276\n",
      "Feature: relationship Importance: 0.193295266135761\n",
      "Feature: education-num Importance: 0.160615481611544\n",
      "Feature: occupation Importance: 0.0763511824232126\n",
      "Feature: age Importance: 0.033417661245507935\n",
      "Feature: capital-loss Importance: 0.026858763261694858\n",
      "Feature: hours-per-week Importance: 0.02277982383502459\n",
      "Feature: education Importance: 0.014159911703902914\n",
      "Feature: sex Importance: 0.007432863915966488\n",
      "Feature: native-country Importance: 0.002313484337782475\n",
      "Feature: workclass Importance: 0.0013834343251258891\n",
      "Feature: fnlwgt Importance: 0.0009244077867689788\n",
      "Feature: race Importance: 0.00012341388063875946\n"
     ]
    }
   ],
   "source": [
    "# Create a list of (feature, importance) tuples\n",
    "feature_importances = [(feature_names[i], importances[i]) for i in range(len(feature_names)-1)]\n",
    "\n",
    "# Sort the feature importances by descending importance\n",
    "feature_importances.sort(key=lambda x: x[1], reverse=True)\n",
    "\n",
    "# Print the feature importances\n",
    "for feature, importance in feature_importances:\n",
    "    print(\"Feature:\", feature, \"Importance:\", importance)"
   ]
  },
  {
   "cell_type": "code",
   "execution_count": 19,
   "id": "7fd03e84",
   "metadata": {},
   "outputs": [
    {
     "data": {
      "image/png": "[encoded data removed]",
      "text/plain": [
       "<Figure size 432x288 with 1 Axes>"
      ]
     },
     "metadata": {
      "needs_background": "light"
     },
     "output_type": "display_data"
    }
   ],
   "source": [
    "# Plot the feature importances\n",
    "plt.bar(range(len(feature_importances)), [importance for _, importance in feature_importances], align='center')\n",
    "plt.xticks(range(len(feature_importances)), [feature for feature, _ in feature_importances], rotation=90)\n",
    "plt.xlabel('Feature')\n",
    "plt.ylabel('Importance')\n",
    "plt.title('Feature Importances')\n",
    "# plt.figure(figsize=(10000, 60) ,dpi=1000000)\n",
    "plt.show()"
   ]
  },
  {
   "cell_type": "markdown",
   "id": "87e9dc2b",
   "metadata": {},
   "source": [
    "## CREATING GRADIENT-BOOST TREE CLASSIFIERS"
   ]
  },
  {
   "cell_type": "code",
   "execution_count": 20,
   "id": "aead27c7",
   "metadata": {},
   "outputs": [],
   "source": [
    "# Create the Gradient Descent Classifier\n",
    "gbt = GBTClassifier(labelCol=\"label\", featuresCol=\"features\",maxBins=100)\n",
    "# Repeat the same process for GBTClassifier\n",
    "pipeline_gbt = Pipeline(stages=[assembler, gbt])\n",
    "# Repeat the same process for GBTClassifier\n",
    "paramGrid_gbt = ParamGridBuilder() \\\n",
    "    .addGrid(gbt.maxIter, [5, 10, 15]) \\\n",
    "    .addGrid(gbt.maxDepth, [2, 4, 6]) \\\n",
    "    .addGrid(gbt.featureSubsetStrategy, [\"auto\", \"sqrt\", \"log2\"]) \\\n",
    "    .build()"
   ]
  },
  {
   "cell_type": "markdown",
   "id": "bdfc286f",
   "metadata": {},
   "source": [
    "## Binary Class:\n"
   ]
  },
  {
   "cell_type": "code",
   "execution_count": 21,
   "id": "bc39bf45",
   "metadata": {},
   "outputs": [],
   "source": [
    "# Binary classicivation \n",
    "binary_cv_gbt = CrossValidator(estimator=pipeline, estimatorParamMaps=paramGrid, evaluator=BinaryClassificationEvaluator(), numFolds=3)"
   ]
  },
  {
   "cell_type": "code",
   "execution_count": 22,
   "id": "74e3c0a1",
   "metadata": {},
   "outputs": [],
   "source": [
    "# Fit the model to the training data\n",
    "model_gbt_binary = binary_cv_gbt.fit(trainingData)"
   ]
  },
  {
   "cell_type": "markdown",
   "id": "430540be",
   "metadata": {},
   "source": [
    "### Create predictions for each model"
   ]
  },
  {
   "cell_type": "code",
   "execution_count": 23,
   "id": "a441a829",
   "metadata": {},
   "outputs": [],
   "source": [
    "# predictions_rf = model.transform(testData)\n",
    "# predictions_gbt = model_gbt.transform(testData)\n",
    "# model_binary\n",
    "predictions_rf = model_binary.transform(testData)\n",
    "predictions_gbt = model_gbt_binary.transform(testData)"
   ]
  },
  {
   "cell_type": "code",
   "execution_count": 24,
   "id": "6ee9eae4",
   "metadata": {},
   "outputs": [],
   "source": [
    "# Create the evaluator object\n",
    "evaluator = MulticlassClassificationEvaluator()\n",
    "\n",
    "# Create BinaryClassificationMetrics\n",
    "\n",
    "binary_metrics = BinaryClassificationEvaluator()"
   ]
  },
  {
   "cell_type": "markdown",
   "id": "4a7fe306",
   "metadata": {},
   "source": [
    "### Set the metric for accuracy"
   ]
  },
  {
   "cell_type": "code",
   "execution_count": 25,
   "id": "111821b9",
   "metadata": {},
   "outputs": [],
   "source": [
    "evaluator.setMetricName(\"accuracy\")\n",
    "accuracy_rf = evaluator.evaluate(predictions_rf)\n",
    "accuracy_gbt = evaluator.evaluate(predictions_gbt)"
   ]
  },
  {
   "cell_type": "code",
   "execution_count": 26,
   "id": "5a013dd9",
   "metadata": {},
   "outputs": [
    {
     "name": "stdout",
     "output_type": "stream",
     "text": [
      "Accuracy of Random Forest Classifier:  0.8511147963884282\n",
      "Accuracy of GBT Classifier:  0.8511147963884282\n"
     ]
    }
   ],
   "source": [
    "print(\"Accuracy of Random Forest Classifier: \", accuracy_rf)\n",
    "print(\"Accuracy of GBT Classifier: \", accuracy_gbt)"
   ]
  },
  {
   "cell_type": "markdown",
   "id": "538e5740",
   "metadata": {},
   "source": [
    "### Set the metric for F1 score\n"
   ]
  },
  {
   "cell_type": "code",
   "execution_count": 27,
   "id": "ef408e8e",
   "metadata": {},
   "outputs": [],
   "source": [
    "evaluator.setMetricName(\"f1\")\n",
    "f1_rf = evaluator.evaluate(predictions_rf)\n",
    "f1_gbt = evaluator.evaluate(predictions_gbt)"
   ]
  },
  {
   "cell_type": "code",
   "execution_count": 28,
   "id": "df846333",
   "metadata": {},
   "outputs": [
    {
     "name": "stdout",
     "output_type": "stream",
     "text": [
      "F1 score of Random Forest Classifier:  0.8375114416244959\n",
      "F1 score of GBT Classifier:  0.8375114416244959\n"
     ]
    }
   ],
   "source": [
    "print(\"F1 score of Random Forest Classifier: \", f1_rf)\n",
    "print(\"F1 score of GBT Classifier: \", f1_gbt)"
   ]
  },
  {
   "cell_type": "markdown",
   "id": "de35d8a6",
   "metadata": {},
   "source": [
    "### Set the metric for AUC"
   ]
  },
  {
   "cell_type": "code",
   "execution_count": 29,
   "id": "26461301",
   "metadata": {},
   "outputs": [],
   "source": [
    "evaluator.setMetricName(\"weightedPrecision\")\n",
    "auc_rf = evaluator.evaluate(predictions_rf)\n",
    "auc_gbt = evaluator.evaluate(predictions_gbt)"
   ]
  },
  {
   "cell_type": "code",
   "execution_count": 30,
   "id": "2a7f77c7",
   "metadata": {},
   "outputs": [
    {
     "name": "stdout",
     "output_type": "stream",
     "text": [
      "AUC of Random Forest Classifier:  0.8457734296840705\n",
      "AUC of GBT Classifier:  0.8457734296840705\n"
     ]
    }
   ],
   "source": [
    "print(\"AUC of Random Forest Classifier: \", auc_rf)\n",
    "print(\"AUC of GBT Classifier: \", auc_gbt)"
   ]
  },
  {
   "cell_type": "markdown",
   "id": "df242c0b",
   "metadata": {},
   "source": [
    "### Additional: True Positive and False Positive rate"
   ]
  },
  {
   "cell_type": "code",
   "execution_count": 31,
   "id": "f91bdab9",
   "metadata": {},
   "outputs": [
    {
     "name": "stdout",
     "output_type": "stream",
     "text": [
      "TP of Random Forest Classifier:  0.8511147963884282\n",
      "TP of GBT Classifier:  0.8511147963884282\n",
      "FP of Random Forest Classifier:  0.39697166081982094\n",
      "FP of GBT Classifier:  0.39697166081982094\n"
     ]
    }
   ],
   "source": [
    "evaluator.setMetricName(\"weightedTruePositiveRate\")\n",
    "tp_rf = evaluator.evaluate(predictions_rf)\n",
    "tp_gbt = evaluator.evaluate(predictions_gbt)\n",
    "print(\"TP of Random Forest Classifier: \", tp_rf)\n",
    "print(\"TP of GBT Classifier: \", tp_gbt)\n",
    "evaluator.setMetricName(\"weightedFalsePositiveRate\")\n",
    "fp_rf = evaluator.evaluate(predictions_rf)\n",
    "fp_gbt = evaluator.evaluate(predictions_gbt)\n",
    "print(\"FP of Random Forest Classifier: \", fp_rf)\n",
    "print(\"FP of GBT Classifier: \", fp_gbt)"
   ]
  },
  {
   "cell_type": "markdown",
   "id": "48f5c6a7",
   "metadata": {},
   "source": [
    "## Draw the ROC curves of testing results"
   ]
  },
  {
   "cell_type": "code",
   "execution_count": 32,
   "id": "41d7c41a",
   "metadata": {},
   "outputs": [],
   "source": [
    "new_model = pipeline.fit(trainingData)"
   ]
  },
  {
   "cell_type": "code",
   "execution_count": 34,
   "id": "198dec4b",
   "metadata": {},
   "outputs": [
    {
     "name": "stdout",
     "output_type": "stream",
     "text": [
      "+---+--------------------+\n",
      "|FPR|                 TPR|\n",
      "+---+--------------------+\n",
      "|0.0|                 0.0|\n",
      "|0.0|7.652085193215151E-4|\n",
      "|0.0|0.011988266802703736|\n",
      "|0.0|0.013518683841346767|\n",
      "|0.0|0.014028822854227777|\n",
      "+---+--------------------+\n",
      "only showing top 5 rows\n",
      "\n",
      "areaUnderROC: 0.9027826746926892\n"
     ]
    },
    {
     "data": {
      "image/png": "[encoded data removed]",
      "text/plain": [
       "<Figure size 432x288 with 1 Axes>"
      ]
     },
     "metadata": {
      "needs_background": "light"
     },
     "output_type": "display_data"
    }
   ],
   "source": [
    "lrModel = new_model.stages[1]\n",
    "trainingSummary = lrModel.summary\n",
    "\n",
    "# Obtain the objective per iteration\n",
    "# objectiveHistory = trainingSummary.objectiveHistory\n",
    "# print(\"objectiveHistory:\")\n",
    "# for objective in objectiveHistory:\n",
    "#     print(objective)\n",
    "\n",
    "# Obtain the receiver-operating characteristic as a dataframe and areaUnderROC.\n",
    "trainingSummary.roc.show(5)\n",
    "print(\"areaUnderROC: \" + str(trainingSummary.areaUnderROC))\n",
    "\n",
    "# Set the model threshold to maximize F-Measure\n",
    "fMeasure = trainingSummary.fMeasureByThreshold\n",
    "maxFMeasure = fMeasure.groupBy().max('F-Measure').select('max(F-Measure)').head(5)\n",
    "# bestThreshold = fMeasure.where(fMeasure['F-Measure'] == maxFMeasure['max(F-Measure)']) \\\n",
    "#     .select('threshold').head()['threshold']\n",
    "# lr.setThreshold(bestThreshold)\n",
    "\n",
    "\n",
    "import matplotlib.pyplot as plt\n",
    "fpr = trainingSummary.roc.select('FPR').toPandas()\n",
    "tpr = trainingSummary.roc.select('TPR').toPandas()\n",
    "\n",
    "plt.plot(fpr, tpr)\n",
    "plt.xlabel('False Positive Rate')\n",
    "plt.ylabel('True Positive Rate')\n",
    "plt.title('ROC Curve')\n",
    "plt.show()"
   ]
  },
  {
   "cell_type": "code",
   "execution_count": null,
   "id": "4720c8bf",
   "metadata": {},
   "outputs": [],
   "source": []
  }
 ],
 "metadata": {
  "kernelspec": {
   "display_name": "Python 3 (ipykernel)",
   "language": "python",
   "name": "python3"
  },
  "language_info": {
   "codemirror_mode": {
    "name": "ipython",
    "version": 3
   },
   "file_extension": ".py",
   "mimetype": "text/x-python",
   "name": "python",
   "nbconvert_exporter": "python",
   "pygments_lexer": "ipython3",
   "version": "3.9.7"
  }
 },
 "nbformat": 4,
 "nbformat_minor": 5
}
